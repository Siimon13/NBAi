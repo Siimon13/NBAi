{
 "cells": [
  {
   "cell_type": "code",
   "execution_count": 1,
   "metadata": {},
   "outputs": [
    {
     "ename": "ImportError",
     "evalue": "No module named 'matplotlib'",
     "output_type": "error",
     "traceback": [
      "\u001b[0;31m---------------------------------------------------------------------------\u001b[0m",
      "\u001b[0;31mImportError\u001b[0m                               Traceback (most recent call last)",
      "\u001b[0;32m<ipython-input-1-4ea014fa48f5>\u001b[0m in \u001b[0;36m<module>\u001b[0;34m()\u001b[0m\n\u001b[1;32m      5\u001b[0m \u001b[0;32mimport\u001b[0m \u001b[0murllib\u001b[0m\u001b[0;34m\u001b[0m\u001b[0m\n\u001b[1;32m      6\u001b[0m \u001b[0;34m\u001b[0m\u001b[0m\n\u001b[0;32m----> 7\u001b[0;31m \u001b[0;32mimport\u001b[0m \u001b[0mmatplotlib\u001b[0m\u001b[0;34m\u001b[0m\u001b[0m\n\u001b[0m\u001b[1;32m      8\u001b[0m \u001b[0;32mimport\u001b[0m \u001b[0mmatplotlib\u001b[0m\u001b[0;34m.\u001b[0m\u001b[0mpyplot\u001b[0m \u001b[0;32mas\u001b[0m \u001b[0mplt\u001b[0m\u001b[0;34m\u001b[0m\u001b[0m\n\u001b[1;32m      9\u001b[0m \u001b[0;34m\u001b[0m\u001b[0m\n",
      "\u001b[0;31mImportError\u001b[0m: No module named 'matplotlib'"
     ]
    }
   ],
   "source": [
    "import numpy as np\n",
    "import tensorflow as tf\n",
    "import pandas as pd\n",
    "import tempfile\n",
    "import urllib\n",
    "\n",
    "import matplotlib\n",
    "import matplotlib.pyplot as plt\n",
    "\n",
    "tf.logging.set_verbosity(tf.logging.INFO)"
   ]
  },
  {
   "cell_type": "code",
   "execution_count": null,
   "metadata": {},
   "outputs": [],
   "source": [
    "filename = \"scrapped_withRuns.csv\""
   ]
  },
  {
   "cell_type": "code",
   "execution_count": 2,
   "metadata": {},
   "outputs": [
    {
     "ename": "NameError",
     "evalue": "name 'filename' is not defined",
     "output_type": "error",
     "traceback": [
      "\u001b[0;31m---------------------------------------------------------------------------\u001b[0m",
      "\u001b[0;31mNameError\u001b[0m                                 Traceback (most recent call last)",
      "\u001b[0;32m<ipython-input-2-4ef254039b0b>\u001b[0m in \u001b[0;36m<module>\u001b[0;34m()\u001b[0m\n\u001b[0;32m----> 1\u001b[0;31m \u001b[0mdf_nba\u001b[0m \u001b[0;34m=\u001b[0m \u001b[0mpd\u001b[0m\u001b[0;34m.\u001b[0m\u001b[0mread_csv\u001b[0m\u001b[0;34m(\u001b[0m\u001b[0mfilename\u001b[0m\u001b[0;34m)\u001b[0m\u001b[0;34m\u001b[0m\u001b[0m\n\u001b[0m",
      "\u001b[0;31mNameError\u001b[0m: name 'filename' is not defined"
     ]
    }
   ],
   "source": [
    "df_nba = pd.read_csv(filename)"
   ]
  },
  {
   "cell_type": "code",
   "execution_count": 4,
   "metadata": {},
   "outputs": [],
   "source": [
    "filename_queue = tf.train.string_input_producer([filename])\n",
    "\n",
    "def file_len(fname):\n",
    "    with open(fname) as f:\n",
    "        for i, l in enumerate(f):\n",
    "            pass\n",
    "            return i + 1\n",
    "\n",
    "\n",
    "reader = tf.TextLineReader(skip_header_lines=1)\n",
    "key, value = reader.read(filename_queue)\n",
    "file_length = file_len(filename)\n"
   ]
  },
  {
   "cell_type": "code",
   "execution_count": 5,
   "metadata": {},
   "outputs": [
    {
     "name": "stdout",
     "output_type": "stream",
     "text": [
      "[['home_team'], ['home_team_abbrv'], ['away_team'], ['away_team_abbrv'], ['period'], ['play_clock_time'], ['team_committing_action'], ['p1'], ['p2'], ['p3'], ['p4'], ['p5'], ['p6'], ['p7'], ['p8'], ['p9'], ['p10'], ['gen_desc'], ['shot_value'], ['rebound_designation'], ['overall_desc'], ['home_pts'], ['visitor_pts'], ['run?'], ['in run']]\n",
      "Example: [b'Spurs' b'SAS' b'Trail Blazers' b'POR' b'1' b'720' b'None'\n",
      " b'Michael Finley' b'Bruce Bowen' b'Tim Duncan' b'Joel Przybilla'\n",
      " b'Tony Parker' b'Martell Webster' b'Jarrett Jack' b'Fabricio Oberto'\n",
      " b'LaMarcus Aldridge' b'Brandon Roy' b'Jump Ball' b'0' b'None'\n",
      " b'(12:00) Jump Ball Duncan vs Przybilla' b'0' b'0' b'False' b'in run']\n",
      "Label: b'1'\n",
      "done loading\n"
     ]
    }
   ],
   "source": [
    "record_defaults = [[\"home_team\"], [\"home_team_abbrv\"], [\"away_team\"], [\"away_team_abbrv\"], [\"period\"], [\"play_clock_time\"], [\"team_committing_action\"], [\"p1\"], [\"p2\"], [\"p3\"],[\"p4\"], [\"p5\"], [\"p6\"], [\"p7\"], [\"p8\"],[\"p9\"], [\"p10\"],\\\n",
    "                   [\"gen_desc\"], [\"shot_value\"], [\"rebound_designation\"],[\"overall_desc\"], [\"home_pts\"], [\"visitor_pts\"],[\"run?\"],[\"in run\"]]\n",
    "col1, col2, col3, col4, col5, col6, col7,col8,col9,col10,col11,col12,col13,col14,col15,col16,col17,col18,col19, col20, col21, col22, col23, col24, col25 = tf.decode_csv(value, record_defaults)\n",
    "\n",
    "print(record_defaults)\n",
    "\n",
    "features = tf.stack([col1, col2, col3, col4, col5, col6, col7,col8,col9,col10,col11,col12,col13,col14,col15,col16,col17,col18,col19, col20, col21, col22, col23, col24, col25])\n",
    "\n",
    "with tf.Session() as sess:\n",
    "    # Start populating the filename queue.\n",
    "    coord = tf.train.Coordinator()\n",
    "    threads = tf.train.start_queue_runners(coord=coord)\n",
    "            \n",
    "    for i in range(file_length):\n",
    "# Retrieve a single instance:\n",
    "        example, label = sess.run([features, col5])\n",
    "        print(\"Example:\", example)\n",
    "        print(\"Label:\", label)\n",
    "            \n",
    "    coord.request_stop()\n",
    "    coord.join(threads)\n",
    "    print(\"done loading\")\n"
   ]
  },
  {
   "cell_type": "code",
   "execution_count": null,
   "metadata": {},
   "outputs": [],
   "source": [
    "with tf.Session() as sess:\n",
    "    print(sess)"
   ]
  },
  {
   "cell_type": "code",
   "execution_count": 28,
   "metadata": {
    "scrolled": false
   },
   "outputs": [
    {
     "name": "stdout",
     "output_type": "stream",
     "text": [
      "Index(['Home_Team_id', 'Home_Tm', 'Visitor_Team_id', 'Away_Tm', 'Period',\n",
      "       'Play_Clock_Time', 'Team_Committing_Action', 'Player1', 'Player2',\n",
      "       'Player3', 'Player4', 'Player5', 'Player6', 'Player7', 'Player8',\n",
      "       'Player9', 'Player10', 'General_Description', 'Shot_Value',\n",
      "       'Rebound_Designation', 'Description', 'Home_PTS', 'Visitor_PTS', 'Run',\n",
      "       'Team_In_Run'],\n",
      "      dtype='object')\n"
     ]
    },
    {
     "data": {
      "image/png": "[encoded data removed]",
      "text/plain": [
       "<matplotlib.figure.Figure at 0x7f9afe4b5da0>"
      ]
     },
     "metadata": {},
     "output_type": "display_data"
    }
   ],
   "source": [
    "print (df_nba.columns)\n",
    "#print (df_nba[\"Period\"])\n",
    "df_runsByPd = df_nba[[\"Period\",\"Run\"]].set_index(\"Period\")\n",
    "\n",
    "#print (df_runsByPd[\"Run\"].value_counts)\n",
    "#df_runsByPd.plot(figsize=(20,10),kind=\"bar\")\n",
    "#df_nba.groupby([\"Period\",\"Run\"]).count().plot(kind=\"bar\")\n",
    "df_runsByPd = df_runsByPd.replace(False, np.nan)\n",
    "ax = df_runsByPd.groupby(\"Period\")[\"Run\"].value_counts().plot(kind=\"bar\", rot=0, color=\"#FA8320\",title=\"Run Counts By Quarter \")\n",
    "\n",
    "ax.set_xlabel(\"Quarter\")\n",
    "ax.set_ylabel(\"Count\")\n",
    "      \n",
    "plt.show()"
   ]
  },
  {
   "cell_type": "code",
   "execution_count": 31,
   "metadata": {},
   "outputs": [],
   "source": [
    "df_tensor = df_nba[[\"Period\",\"Run\"]]\n",
    "\n",
    "period = tf.feature_column.categorical_column_with_vocabulary_list(\"Period\", [\"1\", \"2\", \"3\",\n",
    "                                                                              \"4\", \"5\", \"6\", \"7\"])\n",
    "run = tf.feature_column.categorical_column_with_vocabulary_list(\"Run\", [\"True\", \"False\"])\n",
    "\n",
    "base_col = [period, run]\n",
    "\n",
    "\n",
    "\n",
    "\n",
    "\n",
    "\n"
   ]
  },
  {
   "cell_type": "code",
   "execution_count": null,
   "metadata": {},
   "outputs": [],
   "source": []
  },
  {
   "cell_type": "code",
   "execution_count": null,
   "metadata": {},
   "outputs": [],
   "source": []
  }
 ],
 "metadata": {
  "kernelspec": {
   "display_name": "Python 3",
   "language": "python",
   "name": "python3"
  },
  "language_info": {
   "codemirror_mode": {
    "name": "ipython",
    "version": 3
   },
   "file_extension": ".py",
   "mimetype": "text/x-python",
   "name": "python",
   "nbconvert_exporter": "python",
   "pygments_lexer": "ipython3",
   "version": "3.4.3"
  }
 },
 "nbformat": 4,
 "nbformat_minor": 2
}
